{
  "cells": [
    {
      "cell_type": "markdown",
      "metadata": {
        "id": "view-in-github",
        "colab_type": "text"
      },
      "source": [
        "<a href=\"https://colab.research.google.com/github/melanieyes/yolov11/blob/main/ViT.ipynb\" target=\"_parent\"><img src=\"https://colab.research.google.com/assets/colab-badge.svg\" alt=\"Open In Colab\"/></a>"
      ]
    },
    {
      "cell_type": "code",
      "execution_count": null,
      "id": "d4e45a49-974f-4f9c-8642-42e2c45aab71",
      "metadata": {
        "id": "d4e45a49-974f-4f9c-8642-42e2c45aab71"
      },
      "outputs": [],
      "source": [
        "import os\n",
        "import numpy as np\n",
        "import matplotlib.pyplot as plt\n",
        "\n",
        "import torch\n",
        "import torch.nn as nn\n",
        "import torchvision.transforms as transforms\n",
        "from torchvision.datasets import CIFAR10\n",
        "from torch.utils.data import DataLoader\n",
        "from torch.optim import Adam\n",
        "\n",
        "torch.manual_seed(1)\n",
        "device = \"cuda\" if torch.cuda.is_available() else \"cpu\"\n",
        "\n",
        "# fix seed\n",
        "np.random.seed(0)"
      ]
    },
    {
      "cell_type": "markdown",
      "id": "f913360b-019e-4d69-a540-b7b5715544e1",
      "metadata": {
        "id": "f913360b-019e-4d69-a540-b7b5715544e1"
      },
      "source": [
        "## Data"
      ]
    },
    {
      "cell_type": "code",
      "execution_count": null,
      "id": "3ad21976-2d99-49b7-b0b5-84e9ebcd371e",
      "metadata": {
        "id": "3ad21976-2d99-49b7-b0b5-84e9ebcd371e",
        "outputId": "141aeb93-cb68-4184-947c-9b30ac4b3591"
      },
      "outputs": [
        {
          "name": "stdout",
          "output_type": "stream",
          "text": [
            "Files already downloaded and verified\n",
            "Files already downloaded and verified\n"
          ]
        }
      ],
      "source": [
        "batch_size = 256\n",
        "train_transform = transforms.Compose(\n",
        "    [\n",
        "        transforms.ToTensor(),\n",
        "        transforms.Normalize([0.4914, 0.4822, 0.4465], [0.2470, 0.2435, 0.2616]),\n",
        "    ]\n",
        ")\n",
        "\n",
        "val_transform = transforms.Compose(\n",
        "    [\n",
        "        transforms.ToTensor(),\n",
        "        transforms.Normalize([0.4914, 0.4822, 0.4465], [0.2470, 0.2435, 0.2616]),\n",
        "    ]\n",
        ")\n",
        "\n",
        "train_set = CIFAR10(root=\"./data\", train=True, download=True, transform=train_transform)\n",
        "\n",
        "val_set = CIFAR10(root=\"./data\", train=False, download=True, transform=val_transform)\n",
        "\n",
        "trainloader = DataLoader(\n",
        "    train_set,\n",
        "    batch_size=batch_size,\n",
        "    shuffle=True,\n",
        "    num_workers=4,\n",
        ")\n",
        "\n",
        "testloader = DataLoader(\n",
        "    val_set,\n",
        "    batch_size=batch_size,\n",
        "    shuffle=False,\n",
        "    num_workers=4,\n",
        ")"
      ]
    },
    {
      "cell_type": "markdown",
      "id": "6ea0dde8-29e7-4096-bd15-6a5ed74655f0",
      "metadata": {
        "id": "6ea0dde8-29e7-4096-bd15-6a5ed74655f0"
      },
      "source": [
        "## Model"
      ]
    },
    {
      "cell_type": "code",
      "execution_count": null,
      "id": "05d76cb2",
      "metadata": {
        "id": "05d76cb2"
      },
      "outputs": [],
      "source": [
        "# https://github.com/lucidrains/vit-pytorch/blob/main/vit_pytorch/vit.py\n",
        "from einops import rearrange, repeat\n",
        "from einops.layers.torch import Rearrange\n",
        "\n",
        "\n",
        "def pair(t):\n",
        "    return t if isinstance(t, tuple) else (t, t)\n",
        "\n",
        "\n",
        "class PreNorm(nn.Module):\n",
        "    def __init__(self, dim, fn):\n",
        "        super().__init__()\n",
        "        self.norm = nn.LayerNorm(dim)\n",
        "        self.fn = fn\n",
        "\n",
        "    def forward(self, x, **kwargs):\n",
        "        return self.fn(self.norm(x), **kwargs)\n",
        "\n",
        "\n",
        "class FeedForward(nn.Module):\n",
        "    def __init__(self, dim, hidden_dim, dropout=0.0):\n",
        "        super().__init__()\n",
        "        self.net = nn.Sequential(\n",
        "            nn.Linear(dim, hidden_dim),\n",
        "            nn.GELU(),\n",
        "            nn.Dropout(dropout),\n",
        "            nn.Linear(hidden_dim, dim),\n",
        "            nn.Dropout(dropout),\n",
        "        )\n",
        "\n",
        "    def forward(self, x):\n",
        "        return self.net(x)\n",
        "\n",
        "\n",
        "class Attention(nn.Module):\n",
        "    def __init__(self, dim, heads=8, dim_head=64, dropout=0.0):\n",
        "        super().__init__()\n",
        "        inner_dim = dim_head * heads\n",
        "        project_out = not (heads == 1 and dim_head == dim)\n",
        "\n",
        "        self.heads = heads\n",
        "        self.scale = dim_head**-0.5\n",
        "\n",
        "        self.attend = nn.Softmax(dim=-1)\n",
        "        self.to_qkv = nn.Linear(dim, inner_dim * 3, bias=False)\n",
        "\n",
        "        self.to_out = (\n",
        "            nn.Sequential(nn.Linear(inner_dim, dim), nn.Dropout(dropout))\n",
        "            if project_out\n",
        "            else nn.Identity()\n",
        "        )\n",
        "\n",
        "    def forward(self, x):\n",
        "        qkv = self.to_qkv(x).chunk(3, dim=-1)\n",
        "        q, k, v = map(lambda t: rearrange(t, \"b n (h d) -> b h n d\", h=self.heads), qkv)\n",
        "\n",
        "        dots = torch.matmul(q, k.transpose(-1, -2)) * self.scale\n",
        "\n",
        "        attn = self.attend(dots)\n",
        "\n",
        "        out = torch.matmul(attn, v)\n",
        "        out = rearrange(out, \"b h n d -> b n (h d)\")\n",
        "        return self.to_out(out)\n",
        "\n",
        "\n",
        "class Transformer(nn.Module):\n",
        "    def __init__(self, dim, depth, heads, dim_head, mlp_dim, dropout=0.0):\n",
        "        super().__init__()\n",
        "        self.layers = nn.ModuleList([])\n",
        "        for _ in range(depth):\n",
        "            self.layers.append(\n",
        "                nn.ModuleList(\n",
        "                    [\n",
        "                        PreNorm(\n",
        "                            dim,\n",
        "                            Attention(\n",
        "                                dim, heads=heads, dim_head=dim_head, dropout=dropout\n",
        "                            ),\n",
        "                        ),\n",
        "                        PreNorm(dim, FeedForward(dim, mlp_dim, dropout=dropout)),\n",
        "                    ]\n",
        "                )\n",
        "            )\n",
        "\n",
        "    def forward(self, x):\n",
        "        for attn, ff in self.layers:\n",
        "            x = attn(x) + x\n",
        "            x = ff(x) + x\n",
        "        return x\n",
        "\n",
        "\n",
        "class ViT(nn.Module):\n",
        "    def __init__(\n",
        "        self,\n",
        "        *,\n",
        "        image_size,\n",
        "        patch_size,\n",
        "        num_classes,\n",
        "        dim,\n",
        "        depth,\n",
        "        heads,\n",
        "        mlp_dim,\n",
        "        pool=\"cls\",\n",
        "        channels=3,\n",
        "        dim_head=64,\n",
        "        dropout=0.0,\n",
        "        emb_dropout=0.0,\n",
        "    ):\n",
        "        super().__init__()\n",
        "        image_height, image_width = pair(image_size)\n",
        "        patch_height, patch_width = pair(patch_size)\n",
        "\n",
        "        assert (\n",
        "            image_height % patch_height == 0 and image_width % patch_width == 0\n",
        "        ), \"Image dimensions must be divisible by the patch size.\"\n",
        "\n",
        "        num_patches = (image_height // patch_height) * (image_width // patch_width)\n",
        "        patch_dim = channels * patch_height * patch_width\n",
        "        assert pool in {\n",
        "            \"cls\",\n",
        "            \"mean\",\n",
        "        }, \"pool type must be either cls (cls token) or mean (mean pooling)\"\n",
        "\n",
        "        self.to_patch_embedding = nn.Sequential(\n",
        "            Rearrange(\n",
        "                \"b c (h p1) (w p2) -> b (h w) (p1 p2 c)\",\n",
        "                p1=patch_height,\n",
        "                p2=patch_width,\n",
        "            ),\n",
        "            nn.Linear(patch_dim, dim),\n",
        "        )\n",
        "\n",
        "        self.pos_embedding = nn.Parameter(torch.randn(1, num_patches + 1, dim))\n",
        "        self.cls_token = nn.Parameter(torch.randn(1, 1, dim))\n",
        "        self.dropout = nn.Dropout(emb_dropout)\n",
        "\n",
        "        self.transformer = Transformer(dim, depth, heads, dim_head, mlp_dim, dropout)\n",
        "\n",
        "        self.pool = pool\n",
        "        self.to_latent = nn.Identity()\n",
        "\n",
        "        self.mlp_head = nn.Sequential(nn.LayerNorm(dim), nn.Linear(dim, num_classes))\n",
        "\n",
        "    def forward(self, img):\n",
        "        x = self.to_patch_embedding(img)\n",
        "        b, n, _ = x.shape\n",
        "\n",
        "        cls_tokens = repeat(self.cls_token, \"() n d -> b n d\", b=b)\n",
        "        x = torch.cat((cls_tokens, x), dim=1)\n",
        "        x += self.pos_embedding[:, : (n + 1)]\n",
        "        x = self.dropout(x)\n",
        "\n",
        "        x = self.transformer(x)\n",
        "\n",
        "        x = x.mean(dim=1) if self.pool == \"mean\" else x[:, 0]\n",
        "\n",
        "        x = self.to_latent(x)\n",
        "        return self.mlp_head(x)"
      ]
    },
    {
      "cell_type": "code",
      "execution_count": null,
      "id": "b6a3ffdc",
      "metadata": {
        "id": "b6a3ffdc"
      },
      "outputs": [],
      "source": [
        "model = ViT(\n",
        "    image_size=32,\n",
        "    patch_size=4,\n",
        "    num_classes=10,\n",
        "    dim=528,\n",
        "    depth=4,\n",
        "    heads=6,\n",
        "    mlp_dim=528,\n",
        "    dropout=0.1,\n",
        "    emb_dropout=0.1,\n",
        ").to(device)"
      ]
    },
    {
      "cell_type": "code",
      "execution_count": null,
      "id": "61b03fcd",
      "metadata": {
        "id": "61b03fcd",
        "outputId": "e19c86f8-4fb2-4fcb-ff7d-391748c65a61"
      },
      "outputs": [
        {
          "name": "stdout",
          "output_type": "stream",
          "text": [
            "torch.Size([2, 10])\n"
          ]
        }
      ],
      "source": [
        "x = torch.randn(2, 3, 32, 32).to(device)\n",
        "print(model(x).shape)"
      ]
    },
    {
      "cell_type": "code",
      "execution_count": null,
      "id": "44255ff4",
      "metadata": {
        "id": "44255ff4",
        "outputId": "a804180b-3be2-468a-b7d4-3d53f74e22b4"
      },
      "outputs": [
        {
          "name": "stdout",
          "output_type": "stream",
          "text": [
            "number of parameters: 5556154\n"
          ]
        }
      ],
      "source": [
        "# check parameters\n",
        "n_params = sum(p.numel() for p in model.parameters())\n",
        "print(\"number of parameters: %d\" % n_params)"
      ]
    },
    {
      "cell_type": "markdown",
      "id": "43c7b151-a199-4e2a-8015-fdfb5f166284",
      "metadata": {
        "id": "43c7b151-a199-4e2a-8015-fdfb5f166284"
      },
      "source": [
        "# Train"
      ]
    },
    {
      "cell_type": "code",
      "execution_count": null,
      "id": "1464e2bd-b627-475d-9941-f2a930d69a14",
      "metadata": {
        "id": "1464e2bd-b627-475d-9941-f2a930d69a14"
      },
      "outputs": [],
      "source": [
        "criterion = nn.CrossEntropyLoss()\n",
        "optimizer = Adam(model.parameters(), lr=1e-3)"
      ]
    },
    {
      "cell_type": "code",
      "execution_count": null,
      "id": "04744c84-1e6d-4bfb-8dd5-abbdc91f102e",
      "metadata": {
        "id": "04744c84-1e6d-4bfb-8dd5-abbdc91f102e"
      },
      "outputs": [],
      "source": [
        "# Function to compute loss and accuracy for test set\n",
        "def evaluate(model, testloader, criterion):\n",
        "    model.eval()\n",
        "    test_loss = 0.0\n",
        "    running_correct = 0\n",
        "    total = 0\n",
        "    with torch.no_grad():\n",
        "        for images, labels in testloader:\n",
        "            # Move inputs and labels to the device\n",
        "            images, labels = images.to(device), labels.to(device)\n",
        "\n",
        "            outputs = model(images)\n",
        "            loss = criterion(outputs, labels)\n",
        "\n",
        "            test_loss += loss.item()\n",
        "\n",
        "            _, predicted = torch.max(outputs.data, 1)\n",
        "            total += labels.size(0)\n",
        "            running_correct += (predicted == labels).sum().item()\n",
        "\n",
        "    accuracy = 100 * running_correct / total\n",
        "    test_loss = test_loss / len(testloader)\n",
        "    return test_loss, accuracy"
      ]
    },
    {
      "cell_type": "code",
      "execution_count": null,
      "id": "f2402591-e7f7-4bdd-8962-c029cfcd9307",
      "metadata": {
        "id": "f2402591-e7f7-4bdd-8962-c029cfcd9307"
      },
      "outputs": [],
      "source": [
        "# some parameter\n",
        "train_losses = []\n",
        "train_accuracies = []\n",
        "test_losses = []\n",
        "test_accuracies = []\n",
        "max_epoch = 30"
      ]
    },
    {
      "cell_type": "code",
      "execution_count": null,
      "id": "190a58e1-0864-4818-a8d2-0f83212c6d13",
      "metadata": {
        "id": "190a58e1-0864-4818-a8d2-0f83212c6d13",
        "outputId": "3724347d-79a0-421d-e565-81297021a64d"
      },
      "outputs": [
        {
          "name": "stdout",
          "output_type": "stream",
          "text": [
            "Epoch [  1/ 30] \t Loss: 1.72349     Accuracy: 37.69% \t Test Loss: 1.54503     Test Accuracy: 44.40%\n",
            "Epoch [  2/ 30] \t Loss: 1.50468     Accuracy: 45.61% \t Test Loss: 1.51413     Test Accuracy: 45.17%\n",
            "Epoch [  3/ 30] \t Loss: 1.48479     Accuracy: 46.22% \t Test Loss: 1.51876     Test Accuracy: 44.98%\n",
            "Epoch [  4/ 30] \t Loss: 1.49694     Accuracy: 45.69% \t Test Loss: 1.47737     Test Accuracy: 45.93%\n",
            "Epoch [  5/ 30] \t Loss: 1.50158     Accuracy: 45.69% \t Test Loss: 1.49177     Test Accuracy: 45.23%\n",
            "Epoch [  6/ 30] \t Loss: 1.52550     Accuracy: 44.39% \t Test Loss: 1.52881     Test Accuracy: 43.99%\n",
            "Epoch [  7/ 30] \t Loss: 1.51341     Accuracy: 45.09% \t Test Loss: 1.50316     Test Accuracy: 44.74%\n",
            "Epoch [  8/ 30] \t Loss: 1.51953     Accuracy: 44.99% \t Test Loss: 1.50706     Test Accuracy: 44.74%\n",
            "Epoch [  9/ 30] \t Loss: 1.49880     Accuracy: 45.85% \t Test Loss: 1.52405     Test Accuracy: 44.84%\n",
            "Epoch [ 10/ 30] \t Loss: 1.51381     Accuracy: 45.08% \t Test Loss: 1.46999     Test Accuracy: 46.29%\n",
            "Epoch [ 11/ 30] \t Loss: 1.48078     Accuracy: 46.12% \t Test Loss: 1.47895     Test Accuracy: 45.97%\n",
            "Epoch [ 12/ 30] \t Loss: 1.46633     Accuracy: 46.66% \t Test Loss: 1.47180     Test Accuracy: 46.20%\n",
            "Epoch [ 13/ 30] \t Loss: 1.46995     Accuracy: 46.88% \t Test Loss: 1.49126     Test Accuracy: 45.31%\n",
            "Epoch [ 14/ 30] \t Loss: 1.46898     Accuracy: 46.69% \t Test Loss: 1.48457     Test Accuracy: 46.10%\n",
            "Epoch [ 15/ 30] \t Loss: 1.48974     Accuracy: 45.83% \t Test Loss: 1.46401     Test Accuracy: 47.61%\n",
            "Epoch [ 16/ 30] \t Loss: 1.47969     Accuracy: 46.39% \t Test Loss: 1.43600     Test Accuracy: 47.93%\n",
            "Epoch [ 17/ 30] \t Loss: 1.44072     Accuracy: 47.91% \t Test Loss: 1.46269     Test Accuracy: 46.42%\n",
            "Epoch [ 18/ 30] \t Loss: 1.45488     Accuracy: 47.14% \t Test Loss: 1.42869     Test Accuracy: 47.93%\n",
            "Epoch [ 19/ 30] \t Loss: 1.42830     Accuracy: 48.40% \t Test Loss: 1.44104     Test Accuracy: 47.08%\n",
            "Epoch [ 20/ 30] \t Loss: 1.44417     Accuracy: 47.89% \t Test Loss: 1.49307     Test Accuracy: 44.59%\n",
            "Epoch [ 21/ 30] \t Loss: 1.45352     Accuracy: 47.34% \t Test Loss: 1.42007     Test Accuracy: 48.29%\n",
            "Epoch [ 22/ 30] \t Loss: 1.50286     Accuracy: 45.39% \t Test Loss: 1.52668     Test Accuracy: 43.90%\n",
            "Epoch [ 23/ 30] \t Loss: 1.57975     Accuracy: 42.24% \t Test Loss: 1.57676     Test Accuracy: 41.79%\n",
            "Epoch [ 24/ 30] \t Loss: 1.62943     Accuracy: 40.50% \t Test Loss: 1.66246     Test Accuracy: 39.49%\n",
            "Epoch [ 25/ 30] \t Loss: 1.65670     Accuracy: 39.29% \t Test Loss: 1.65668     Test Accuracy: 39.33%\n",
            "Epoch [ 26/ 30] \t Loss: 1.64823     Accuracy: 39.80% \t Test Loss: 1.66820     Test Accuracy: 38.66%\n",
            "Epoch [ 27/ 30] \t Loss: 1.68752     Accuracy: 38.19% \t Test Loss: 1.66171     Test Accuracy: 39.03%\n",
            "Epoch [ 28/ 30] \t Loss: 1.64885     Accuracy: 39.73% \t Test Loss: 1.59711     Test Accuracy: 41.77%\n",
            "Epoch [ 29/ 30] \t Loss: 1.64101     Accuracy: 40.03% \t Test Loss: 1.62859     Test Accuracy: 41.25%\n",
            "Epoch [ 30/ 30] \t Loss: 1.65879     Accuracy: 39.22% \t Test Loss: 1.65440     Test Accuracy: 39.67%\n"
          ]
        }
      ],
      "source": [
        "# train\n",
        "for epoch in range(max_epoch):\n",
        "    model.train()\n",
        "    running_loss = 0.0\n",
        "    running_correct = 0  # to track number of correct predictions\n",
        "    total = 0  # to track total number of samples\n",
        "\n",
        "    for i, (inputs, labels) in enumerate(trainloader, 0):\n",
        "        # Move inputs and labels to the device\n",
        "        inputs, labels = inputs.to(device), labels.to(device)\n",
        "\n",
        "        # Zero the parameter gradients\n",
        "        optimizer.zero_grad()\n",
        "\n",
        "        # Forward pass\n",
        "        outputs = model(inputs)\n",
        "\n",
        "        loss = criterion(outputs, labels)\n",
        "\n",
        "        running_loss += loss.item()\n",
        "\n",
        "        # Backward pass and optimization\n",
        "        loss.backward()\n",
        "        optimizer.step()\n",
        "\n",
        "        # Determine class predictions and track accuracy\n",
        "        _, predicted = torch.max(outputs.data, 1)\n",
        "        total += labels.size(0)\n",
        "        running_correct += (predicted == labels).sum().item()\n",
        "\n",
        "    epoch_accuracy = 100 * running_correct / total\n",
        "    epoch_loss = running_loss / (i + 1)\n",
        "\n",
        "    test_loss, test_accuracy = evaluate(model, testloader, criterion)\n",
        "    print(\n",
        "        f\"Epoch [{(epoch + 1):3}/{max_epoch:3}] \\t Loss: {epoch_loss:<11.5f} Accuracy: {epoch_accuracy:.2f}% \\t Test Loss: {test_loss:<11.5f} Test Accuracy: {test_accuracy:.2f}%\"\n",
        "    )\n",
        "\n",
        "    # save for plot\n",
        "    train_losses.append(epoch_loss)\n",
        "    train_accuracies.append(epoch_accuracy)\n",
        "    test_losses.append(test_loss)\n",
        "    test_accuracies.append(test_accuracy)"
      ]
    },
    {
      "cell_type": "code",
      "execution_count": null,
      "id": "cebcb439-88f2-40b6-9a17-4990ad324731",
      "metadata": {
        "id": "cebcb439-88f2-40b6-9a17-4990ad324731",
        "outputId": "7ad0b1ef-641d-447f-af55-8cee47220cf8"
      },
      "outputs": [
        {
          "name": "stdout",
          "output_type": "stream",
          "text": [
            "\n",
            "Best epoch: 21 with test accuracy: 48.29%\n"
          ]
        }
      ],
      "source": [
        "# the best accuracy\n",
        "best_epoch = np.argmax(test_accuracies)\n",
        "print(\n",
        "    f\"\\nBest epoch: {best_epoch + 1} with test accuracy: {test_accuracies[best_epoch]:.2f}%\"\n",
        ")"
      ]
    },
    {
      "cell_type": "markdown",
      "id": "z0RuEa2Wo44e",
      "metadata": {
        "id": "z0RuEa2Wo44e"
      },
      "source": [
        "# Plot results"
      ]
    },
    {
      "cell_type": "code",
      "execution_count": null,
      "id": "DkC3_902Lgn-",
      "metadata": {
        "id": "DkC3_902Lgn-",
        "outputId": "980415bb-e7bf-4cd0-f937-7bdb4bbeeb21"
      },
      "outputs": [
        {
          "data": {
            "text/plain": [
              "<matplotlib.legend.Legend at 0x7c38a937f820>"
            ]
          },
          "execution_count": 12,
          "metadata": {},
          "output_type": "execute_result"
        },
        {
          "data": {
            "image/png": "[encoded data removed]",
            "text/plain": [
              "<Figure size 640x480 with 1 Axes>"
            ]
          },
          "metadata": {},
          "output_type": "display_data"
        }
      ],
      "source": [
        "plt.plot(train_losses, label=\"train_losses\")\n",
        "plt.plot(test_losses, label=\"test_losses\")\n",
        "plt.legend()"
      ]
    },
    {
      "cell_type": "code",
      "execution_count": null,
      "id": "794f4e81",
      "metadata": {
        "id": "794f4e81",
        "outputId": "bf94f552-5d0c-4673-aa28-ab1ea2622dc1"
      },
      "outputs": [
        {
          "data": {
            "text/plain": [
              "<matplotlib.legend.Legend at 0x7c38a93d0e50>"
            ]
          },
          "execution_count": 13,
          "metadata": {},
          "output_type": "execute_result"
        },
        {
          "data": {
            "image/png": "[encoded data removed]",
            "text/plain": [
              "<Figure size 640x480 with 1 Axes>"
            ]
          },
          "metadata": {},
          "output_type": "display_data"
        }
      ],
      "source": [
        "plt.plot(train_accuracies, label=\"train_accuracy\")\n",
        "plt.plot(test_accuracies, label=\"test_accuracy\")\n",
        "plt.legend()"
      ]
    },
    {
      "cell_type": "code",
      "execution_count": null,
      "id": "8c86325e-7b6c-43a6-b315-93e02bcdb264",
      "metadata": {
        "id": "8c86325e-7b6c-43a6-b315-93e02bcdb264"
      },
      "outputs": [],
      "source": []
    }
  ],
  "metadata": {
    "accelerator": "GPU",
    "colab": {
      "provenance": [],
      "include_colab_link": true
    },
    "gpuClass": "standard",
    "kernelspec": {
      "display_name": "Python 3 (ipykernel)",
      "language": "python",
      "name": "python3"
    },
    "language_info": {
      "codemirror_mode": {
        "name": "ipython",
        "version": 3
      },
      "file_extension": ".py",
      "mimetype": "text/x-python",
      "name": "python",
      "nbconvert_exporter": "python",
      "pygments_lexer": "ipython3",
      "version": "3.8.18"
    }
  },
  "nbformat": 4,
  "nbformat_minor": 5
}